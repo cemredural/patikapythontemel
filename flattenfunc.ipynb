{
 "cells": [
  {
   "cell_type": "code",
   "execution_count": null,
   "metadata": {},
   "outputs": [],
   "source": [
    "def flatten(list_):\n",
    "    newList = []    #create empty list\n",
    "    for i in list_:\n",
    "        if type(i) != list:\n",
    "            newList.append(i)  # add non-list of list_ items to newList\n",
    "        else:\n",
    "            newList.extend(flatten(i)) #to make flat list of list_ items and then extend to newList\n",
    "    return newList"
   ]
  }
 ],
 "metadata": {
  "language_info": {
   "name": "python"
  },
  "orig_nbformat": 4
 },
 "nbformat": 4,
 "nbformat_minor": 2
}
