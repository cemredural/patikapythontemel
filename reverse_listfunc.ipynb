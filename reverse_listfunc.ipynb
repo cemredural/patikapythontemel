{
 "cells": [
  {
   "cell_type": "code",
   "execution_count": null,
   "metadata": {},
   "outputs": [],
   "source": [
    "def reverse_list(list_):\n",
    "    if type(list_) == list:\n",
    "        list_ = [reverse_list(subx) for subx in list_] #reverse list_ items \n",
    "        list_ = list_[::-1] #reverse list_ \n",
    "    return list_"
   ]
  }
 ],
 "metadata": {
  "interpreter": {
   "hash": "ce70f612f632055bea328700289c8ac00706bfd64aa2365f64bc943ee77d1553"
  },
  "kernelspec": {
   "display_name": "Python 3.8.8 64-bit ('base': conda)",
   "language": "python",
   "name": "python3"
  },
  "language_info": {
   "codemirror_mode": {
    "name": "ipython",
    "version": 3
   },
   "file_extension": ".py",
   "mimetype": "text/x-python",
   "name": "python",
   "nbconvert_exporter": "python",
   "pygments_lexer": "ipython3",
   "version": "3.8.8"
  },
  "orig_nbformat": 4
 },
 "nbformat": 4,
 "nbformat_minor": 2
}
